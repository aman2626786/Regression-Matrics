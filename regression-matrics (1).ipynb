{
 "cells": [
  {
   "cell_type": "code",
   "execution_count": 1,
   "id": "0a48c9d1",
   "metadata": {
    "_cell_guid": "b1076dfc-b9ad-4769-8c92-a6c4dae69d19",
    "_uuid": "8f2839f25d086af736a60e9eeb907d3b93b6e0e5",
    "execution": {
     "iopub.execute_input": "2025-03-01T15:28:40.404838Z",
     "iopub.status.busy": "2025-03-01T15:28:40.404327Z",
     "iopub.status.idle": "2025-03-01T15:28:41.401494Z",
     "shell.execute_reply": "2025-03-01T15:28:41.400279Z"
    },
    "papermill": {
     "duration": 1.007614,
     "end_time": "2025-03-01T15:28:41.403340",
     "exception": false,
     "start_time": "2025-03-01T15:28:40.395726",
     "status": "completed"
    },
    "tags": []
   },
   "outputs": [
    {
     "name": "stdout",
     "output_type": "stream",
     "text": [
      "/kaggle/input/student-placement-dataset-2/placement (1).csv\n"
     ]
    }
   ],
   "source": [
    "# This Python 3 environment comes with many helpful analytics libraries installed\n",
    "# It is defined by the kaggle/python Docker image: https://github.com/kaggle/docker-python\n",
    "# For example, here's several helpful packages to load\n",
    "\n",
    "import numpy as np # linear algebra\n",
    "import pandas as pd # data processing, CSV file I/O (e.g. pd.read_csv)\n",
    "\n",
    "# Input data files are available in the read-only \"../input/\" directory\n",
    "# For example, running this (by clicking run or pressing Shift+Enter) will list all files under the input directory\n",
    "\n",
    "import os\n",
    "for dirname, _, filenames in os.walk('/kaggle/input'):\n",
    "    for filename in filenames:\n",
    "        print(os.path.join(dirname, filename))\n",
    "\n",
    "# You can write up to 20GB to the current directory (/kaggle/working/) that gets preserved as output when you create a version using \"Save & Run All\" \n",
    "# You can also write temporary files to /kaggle/temp/, but they won't be saved outside of the current session"
   ]
  },
  {
   "cell_type": "code",
   "execution_count": 2,
   "id": "39d8cfa1",
   "metadata": {
    "execution": {
     "iopub.execute_input": "2025-03-01T15:28:41.418251Z",
     "iopub.status.busy": "2025-03-01T15:28:41.417781Z",
     "iopub.status.idle": "2025-03-01T15:28:41.432141Z",
     "shell.execute_reply": "2025-03-01T15:28:41.431096Z"
    },
    "papermill": {
     "duration": 0.023632,
     "end_time": "2025-03-01T15:28:41.434120",
     "exception": false,
     "start_time": "2025-03-01T15:28:41.410488",
     "status": "completed"
    },
    "tags": []
   },
   "outputs": [],
   "source": [
    "df = pd.read_csv(\"/kaggle/input/student-placement-dataset-2/placement (1).csv\")"
   ]
  },
  {
   "cell_type": "code",
   "execution_count": 3,
   "id": "807c34d1",
   "metadata": {
    "execution": {
     "iopub.execute_input": "2025-03-01T15:28:41.448362Z",
     "iopub.status.busy": "2025-03-01T15:28:41.448028Z",
     "iopub.status.idle": "2025-03-01T15:28:41.475203Z",
     "shell.execute_reply": "2025-03-01T15:28:41.474114Z"
    },
    "papermill": {
     "duration": 0.036102,
     "end_time": "2025-03-01T15:28:41.476901",
     "exception": false,
     "start_time": "2025-03-01T15:28:41.440799",
     "status": "completed"
    },
    "tags": []
   },
   "outputs": [
    {
     "data": {
      "text/html": [
       "<div>\n",
       "<style scoped>\n",
       "    .dataframe tbody tr th:only-of-type {\n",
       "        vertical-align: middle;\n",
       "    }\n",
       "\n",
       "    .dataframe tbody tr th {\n",
       "        vertical-align: top;\n",
       "    }\n",
       "\n",
       "    .dataframe thead th {\n",
       "        text-align: right;\n",
       "    }\n",
       "</style>\n",
       "<table border=\"1\" class=\"dataframe\">\n",
       "  <thead>\n",
       "    <tr style=\"text-align: right;\">\n",
       "      <th></th>\n",
       "      <th>cgpa</th>\n",
       "      <th>package</th>\n",
       "    </tr>\n",
       "  </thead>\n",
       "  <tbody>\n",
       "    <tr>\n",
       "      <th>0</th>\n",
       "      <td>6.89</td>\n",
       "      <td>3.26</td>\n",
       "    </tr>\n",
       "    <tr>\n",
       "      <th>1</th>\n",
       "      <td>5.12</td>\n",
       "      <td>1.98</td>\n",
       "    </tr>\n",
       "    <tr>\n",
       "      <th>2</th>\n",
       "      <td>7.82</td>\n",
       "      <td>3.25</td>\n",
       "    </tr>\n",
       "    <tr>\n",
       "      <th>3</th>\n",
       "      <td>7.42</td>\n",
       "      <td>3.67</td>\n",
       "    </tr>\n",
       "    <tr>\n",
       "      <th>4</th>\n",
       "      <td>6.94</td>\n",
       "      <td>3.57</td>\n",
       "    </tr>\n",
       "  </tbody>\n",
       "</table>\n",
       "</div>"
      ],
      "text/plain": [
       "   cgpa  package\n",
       "0  6.89     3.26\n",
       "1  5.12     1.98\n",
       "2  7.82     3.25\n",
       "3  7.42     3.67\n",
       "4  6.94     3.57"
      ]
     },
     "execution_count": 3,
     "metadata": {},
     "output_type": "execute_result"
    }
   ],
   "source": [
    "df.head()"
   ]
  },
  {
   "cell_type": "code",
   "execution_count": 4,
   "id": "41bb9b2e",
   "metadata": {
    "execution": {
     "iopub.execute_input": "2025-03-01T15:28:41.492311Z",
     "iopub.status.busy": "2025-03-01T15:28:41.491927Z",
     "iopub.status.idle": "2025-03-01T15:28:41.496392Z",
     "shell.execute_reply": "2025-03-01T15:28:41.495274Z"
    },
    "papermill": {
     "duration": 0.01449,
     "end_time": "2025-03-01T15:28:41.498244",
     "exception": false,
     "start_time": "2025-03-01T15:28:41.483754",
     "status": "completed"
    },
    "tags": []
   },
   "outputs": [],
   "source": [
    "import matplotlib.pyplot as plt"
   ]
  },
  {
   "cell_type": "code",
   "execution_count": 5,
   "id": "5d7bd97f",
   "metadata": {
    "execution": {
     "iopub.execute_input": "2025-03-01T15:28:41.513271Z",
     "iopub.status.busy": "2025-03-01T15:28:41.512924Z",
     "iopub.status.idle": "2025-03-01T15:28:41.817483Z",
     "shell.execute_reply": "2025-03-01T15:28:41.816339Z"
    },
    "papermill": {
     "duration": 0.313998,
     "end_time": "2025-03-01T15:28:41.819234",
     "exception": false,
     "start_time": "2025-03-01T15:28:41.505236",
     "status": "completed"
    },
    "tags": []
   },
   "outputs": [
    {
     "data": {
      "text/plain": [
       "Text(0, 0.5, 'Package (in LPA)')"
      ]
     },
     "execution_count": 5,
     "metadata": {},
     "output_type": "execute_result"
    },
    {
     "data": {
      "image/png": "[encoded data removed]",
      "text/plain": [
       "<Figure size 640x480 with 1 Axes>"
      ]
     },
     "metadata": {},
     "output_type": "display_data"
    }
   ],
   "source": [
    "plt.scatter(df['cgpa'],df['package'])\n",
    "plt.xlabel('CGPA')\n",
    "plt.ylabel('Package (in LPA)')"
   ]
  },
  {
   "cell_type": "code",
   "execution_count": 6,
   "id": "e55e9cf6",
   "metadata": {
    "execution": {
     "iopub.execute_input": "2025-03-01T15:28:41.834956Z",
     "iopub.status.busy": "2025-03-01T15:28:41.834595Z",
     "iopub.status.idle": "2025-03-01T15:28:41.839637Z",
     "shell.execute_reply": "2025-03-01T15:28:41.838540Z"
    },
    "papermill": {
     "duration": 0.014757,
     "end_time": "2025-03-01T15:28:41.841324",
     "exception": false,
     "start_time": "2025-03-01T15:28:41.826567",
     "status": "completed"
    },
    "tags": []
   },
   "outputs": [],
   "source": [
    "x = df.iloc[:,0:1]\n",
    "y = df.iloc[:,-1]"
   ]
  },
  {
   "cell_type": "code",
   "execution_count": 7,
   "id": "9ec17e36",
   "metadata": {
    "execution": {
     "iopub.execute_input": "2025-03-01T15:28:41.857602Z",
     "iopub.status.busy": "2025-03-01T15:28:41.857213Z",
     "iopub.status.idle": "2025-03-01T15:28:41.871411Z",
     "shell.execute_reply": "2025-03-01T15:28:41.870267Z"
    },
    "papermill": {
     "duration": 0.024833,
     "end_time": "2025-03-01T15:28:41.873483",
     "exception": false,
     "start_time": "2025-03-01T15:28:41.848650",
     "status": "completed"
    },
    "tags": []
   },
   "outputs": [
    {
     "data": {
      "text/html": [
       "<div>\n",
       "<style scoped>\n",
       "    .dataframe tbody tr th:only-of-type {\n",
       "        vertical-align: middle;\n",
       "    }\n",
       "\n",
       "    .dataframe tbody tr th {\n",
       "        vertical-align: top;\n",
       "    }\n",
       "\n",
       "    .dataframe thead th {\n",
       "        text-align: right;\n",
       "    }\n",
       "</style>\n",
       "<table border=\"1\" class=\"dataframe\">\n",
       "  <thead>\n",
       "    <tr style=\"text-align: right;\">\n",
       "      <th></th>\n",
       "      <th>cgpa</th>\n",
       "    </tr>\n",
       "  </thead>\n",
       "  <tbody>\n",
       "    <tr>\n",
       "      <th>0</th>\n",
       "      <td>6.89</td>\n",
       "    </tr>\n",
       "    <tr>\n",
       "      <th>1</th>\n",
       "      <td>5.12</td>\n",
       "    </tr>\n",
       "    <tr>\n",
       "      <th>2</th>\n",
       "      <td>7.82</td>\n",
       "    </tr>\n",
       "    <tr>\n",
       "      <th>3</th>\n",
       "      <td>7.42</td>\n",
       "    </tr>\n",
       "    <tr>\n",
       "      <th>4</th>\n",
       "      <td>6.94</td>\n",
       "    </tr>\n",
       "    <tr>\n",
       "      <th>...</th>\n",
       "      <td>...</td>\n",
       "    </tr>\n",
       "    <tr>\n",
       "      <th>195</th>\n",
       "      <td>6.93</td>\n",
       "    </tr>\n",
       "    <tr>\n",
       "      <th>196</th>\n",
       "      <td>5.89</td>\n",
       "    </tr>\n",
       "    <tr>\n",
       "      <th>197</th>\n",
       "      <td>7.21</td>\n",
       "    </tr>\n",
       "    <tr>\n",
       "      <th>198</th>\n",
       "      <td>7.63</td>\n",
       "    </tr>\n",
       "    <tr>\n",
       "      <th>199</th>\n",
       "      <td>6.22</td>\n",
       "    </tr>\n",
       "  </tbody>\n",
       "</table>\n",
       "<p>200 rows × 1 columns</p>\n",
       "</div>"
      ],
      "text/plain": [
       "     cgpa\n",
       "0    6.89\n",
       "1    5.12\n",
       "2    7.82\n",
       "3    7.42\n",
       "4    6.94\n",
       "..    ...\n",
       "195  6.93\n",
       "196  5.89\n",
       "197  7.21\n",
       "198  7.63\n",
       "199  6.22\n",
       "\n",
       "[200 rows x 1 columns]"
      ]
     },
     "execution_count": 7,
     "metadata": {},
     "output_type": "execute_result"
    }
   ],
   "source": [
    "x"
   ]
  },
  {
   "cell_type": "code",
   "execution_count": 8,
   "id": "e2feb5d8",
   "metadata": {
    "execution": {
     "iopub.execute_input": "2025-03-01T15:28:41.890469Z",
     "iopub.status.busy": "2025-03-01T15:28:41.890068Z",
     "iopub.status.idle": "2025-03-01T15:28:41.897742Z",
     "shell.execute_reply": "2025-03-01T15:28:41.896763Z"
    },
    "papermill": {
     "duration": 0.018256,
     "end_time": "2025-03-01T15:28:41.899491",
     "exception": false,
     "start_time": "2025-03-01T15:28:41.881235",
     "status": "completed"
    },
    "tags": []
   },
   "outputs": [
    {
     "data": {
      "text/plain": [
       "0      3.26\n",
       "1      1.98\n",
       "2      3.25\n",
       "3      3.67\n",
       "4      3.57\n",
       "       ... \n",
       "195    2.46\n",
       "196    2.57\n",
       "197    3.24\n",
       "198    3.96\n",
       "199    2.33\n",
       "Name: package, Length: 200, dtype: float64"
      ]
     },
     "execution_count": 8,
     "metadata": {},
     "output_type": "execute_result"
    }
   ],
   "source": [
    "y"
   ]
  },
  {
   "cell_type": "code",
   "execution_count": 9,
   "id": "cc2b4d9b",
   "metadata": {
    "execution": {
     "iopub.execute_input": "2025-03-01T15:28:41.915971Z",
     "iopub.status.busy": "2025-03-01T15:28:41.915626Z",
     "iopub.status.idle": "2025-03-01T15:28:43.498602Z",
     "shell.execute_reply": "2025-03-01T15:28:43.497471Z"
    },
    "papermill": {
     "duration": 1.593464,
     "end_time": "2025-03-01T15:28:43.500565",
     "exception": false,
     "start_time": "2025-03-01T15:28:41.907101",
     "status": "completed"
    },
    "tags": []
   },
   "outputs": [],
   "source": [
    "from sklearn.model_selection import train_test_split\n",
    "x_train,x_test,y_train,y_test = train_test_split(x,y,test_size=0.2,random_state=2)"
   ]
  },
  {
   "cell_type": "code",
   "execution_count": 10,
   "id": "2018f50c",
   "metadata": {
    "execution": {
     "iopub.execute_input": "2025-03-01T15:28:43.517346Z",
     "iopub.status.busy": "2025-03-01T15:28:43.516774Z",
     "iopub.status.idle": "2025-03-01T15:28:43.527576Z",
     "shell.execute_reply": "2025-03-01T15:28:43.526518Z"
    },
    "papermill": {
     "duration": 0.020937,
     "end_time": "2025-03-01T15:28:43.529259",
     "exception": false,
     "start_time": "2025-03-01T15:28:43.508322",
     "status": "completed"
    },
    "tags": []
   },
   "outputs": [
    {
     "data": {
      "text/html": [
       "<div>\n",
       "<style scoped>\n",
       "    .dataframe tbody tr th:only-of-type {\n",
       "        vertical-align: middle;\n",
       "    }\n",
       "\n",
       "    .dataframe tbody tr th {\n",
       "        vertical-align: top;\n",
       "    }\n",
       "\n",
       "    .dataframe thead th {\n",
       "        text-align: right;\n",
       "    }\n",
       "</style>\n",
       "<table border=\"1\" class=\"dataframe\">\n",
       "  <thead>\n",
       "    <tr style=\"text-align: right;\">\n",
       "      <th></th>\n",
       "      <th>cgpa</th>\n",
       "    </tr>\n",
       "  </thead>\n",
       "  <tbody>\n",
       "    <tr>\n",
       "      <th>137</th>\n",
       "      <td>7.14</td>\n",
       "    </tr>\n",
       "    <tr>\n",
       "      <th>163</th>\n",
       "      <td>8.93</td>\n",
       "    </tr>\n",
       "    <tr>\n",
       "      <th>111</th>\n",
       "      <td>5.42</td>\n",
       "    </tr>\n",
       "    <tr>\n",
       "      <th>123</th>\n",
       "      <td>5.10</td>\n",
       "    </tr>\n",
       "    <tr>\n",
       "      <th>109</th>\n",
       "      <td>7.77</td>\n",
       "    </tr>\n",
       "    <tr>\n",
       "      <th>...</th>\n",
       "      <td>...</td>\n",
       "    </tr>\n",
       "    <tr>\n",
       "      <th>43</th>\n",
       "      <td>7.66</td>\n",
       "    </tr>\n",
       "    <tr>\n",
       "      <th>22</th>\n",
       "      <td>6.14</td>\n",
       "    </tr>\n",
       "    <tr>\n",
       "      <th>72</th>\n",
       "      <td>7.78</td>\n",
       "    </tr>\n",
       "    <tr>\n",
       "      <th>15</th>\n",
       "      <td>7.25</td>\n",
       "    </tr>\n",
       "    <tr>\n",
       "      <th>168</th>\n",
       "      <td>8.65</td>\n",
       "    </tr>\n",
       "  </tbody>\n",
       "</table>\n",
       "<p>160 rows × 1 columns</p>\n",
       "</div>"
      ],
      "text/plain": [
       "     cgpa\n",
       "137  7.14\n",
       "163  8.93\n",
       "111  5.42\n",
       "123  5.10\n",
       "109  7.77\n",
       "..    ...\n",
       "43   7.66\n",
       "22   6.14\n",
       "72   7.78\n",
       "15   7.25\n",
       "168  8.65\n",
       "\n",
       "[160 rows x 1 columns]"
      ]
     },
     "execution_count": 10,
     "metadata": {},
     "output_type": "execute_result"
    }
   ],
   "source": [
    "x_train"
   ]
  },
  {
   "cell_type": "code",
   "execution_count": 11,
   "id": "d899a0cc",
   "metadata": {
    "execution": {
     "iopub.execute_input": "2025-03-01T15:28:43.547758Z",
     "iopub.status.busy": "2025-03-01T15:28:43.547297Z",
     "iopub.status.idle": "2025-03-01T15:28:43.555489Z",
     "shell.execute_reply": "2025-03-01T15:28:43.554301Z"
    },
    "papermill": {
     "duration": 0.019072,
     "end_time": "2025-03-01T15:28:43.557399",
     "exception": false,
     "start_time": "2025-03-01T15:28:43.538327",
     "status": "completed"
    },
    "tags": []
   },
   "outputs": [
    {
     "data": {
      "text/plain": [
       "137    3.13\n",
       "163    3.91\n",
       "111    2.25\n",
       "123    2.30\n",
       "109    4.06\n",
       "       ... \n",
       "43     2.76\n",
       "22     2.30\n",
       "72     3.62\n",
       "15     3.23\n",
       "168    3.52\n",
       "Name: package, Length: 160, dtype: float64"
      ]
     },
     "execution_count": 11,
     "metadata": {},
     "output_type": "execute_result"
    }
   ],
   "source": [
    "y_train"
   ]
  },
  {
   "cell_type": "code",
   "execution_count": 12,
   "id": "25acc1dc",
   "metadata": {
    "execution": {
     "iopub.execute_input": "2025-03-01T15:28:43.575819Z",
     "iopub.status.busy": "2025-03-01T15:28:43.575314Z",
     "iopub.status.idle": "2025-03-01T15:28:43.586917Z",
     "shell.execute_reply": "2025-03-01T15:28:43.585936Z"
    },
    "papermill": {
     "duration": 0.023462,
     "end_time": "2025-03-01T15:28:43.588860",
     "exception": false,
     "start_time": "2025-03-01T15:28:43.565398",
     "status": "completed"
    },
    "tags": []
   },
   "outputs": [
    {
     "data": {
      "text/html": [
       "<div>\n",
       "<style scoped>\n",
       "    .dataframe tbody tr th:only-of-type {\n",
       "        vertical-align: middle;\n",
       "    }\n",
       "\n",
       "    .dataframe tbody tr th {\n",
       "        vertical-align: top;\n",
       "    }\n",
       "\n",
       "    .dataframe thead th {\n",
       "        text-align: right;\n",
       "    }\n",
       "</style>\n",
       "<table border=\"1\" class=\"dataframe\">\n",
       "  <thead>\n",
       "    <tr style=\"text-align: right;\">\n",
       "      <th></th>\n",
       "      <th>cgpa</th>\n",
       "    </tr>\n",
       "  </thead>\n",
       "  <tbody>\n",
       "    <tr>\n",
       "      <th>112</th>\n",
       "      <td>8.58</td>\n",
       "    </tr>\n",
       "    <tr>\n",
       "      <th>29</th>\n",
       "      <td>7.15</td>\n",
       "    </tr>\n",
       "    <tr>\n",
       "      <th>182</th>\n",
       "      <td>5.88</td>\n",
       "    </tr>\n",
       "    <tr>\n",
       "      <th>199</th>\n",
       "      <td>6.22</td>\n",
       "    </tr>\n",
       "    <tr>\n",
       "      <th>193</th>\n",
       "      <td>4.57</td>\n",
       "    </tr>\n",
       "    <tr>\n",
       "      <th>85</th>\n",
       "      <td>4.79</td>\n",
       "    </tr>\n",
       "    <tr>\n",
       "      <th>10</th>\n",
       "      <td>5.32</td>\n",
       "    </tr>\n",
       "    <tr>\n",
       "      <th>54</th>\n",
       "      <td>6.86</td>\n",
       "    </tr>\n",
       "    <tr>\n",
       "      <th>115</th>\n",
       "      <td>8.35</td>\n",
       "    </tr>\n",
       "    <tr>\n",
       "      <th>35</th>\n",
       "      <td>6.87</td>\n",
       "    </tr>\n",
       "    <tr>\n",
       "      <th>12</th>\n",
       "      <td>8.94</td>\n",
       "    </tr>\n",
       "    <tr>\n",
       "      <th>92</th>\n",
       "      <td>7.90</td>\n",
       "    </tr>\n",
       "    <tr>\n",
       "      <th>13</th>\n",
       "      <td>6.93</td>\n",
       "    </tr>\n",
       "    <tr>\n",
       "      <th>126</th>\n",
       "      <td>5.91</td>\n",
       "    </tr>\n",
       "    <tr>\n",
       "      <th>174</th>\n",
       "      <td>7.32</td>\n",
       "    </tr>\n",
       "    <tr>\n",
       "      <th>2</th>\n",
       "      <td>7.82</td>\n",
       "    </tr>\n",
       "    <tr>\n",
       "      <th>44</th>\n",
       "      <td>5.09</td>\n",
       "    </tr>\n",
       "    <tr>\n",
       "      <th>3</th>\n",
       "      <td>7.42</td>\n",
       "    </tr>\n",
       "    <tr>\n",
       "      <th>113</th>\n",
       "      <td>6.94</td>\n",
       "    </tr>\n",
       "    <tr>\n",
       "      <th>14</th>\n",
       "      <td>7.73</td>\n",
       "    </tr>\n",
       "    <tr>\n",
       "      <th>23</th>\n",
       "      <td>6.19</td>\n",
       "    </tr>\n",
       "    <tr>\n",
       "      <th>25</th>\n",
       "      <td>7.28</td>\n",
       "    </tr>\n",
       "    <tr>\n",
       "      <th>6</th>\n",
       "      <td>6.73</td>\n",
       "    </tr>\n",
       "    <tr>\n",
       "      <th>134</th>\n",
       "      <td>7.20</td>\n",
       "    </tr>\n",
       "    <tr>\n",
       "      <th>165</th>\n",
       "      <td>8.21</td>\n",
       "    </tr>\n",
       "    <tr>\n",
       "      <th>173</th>\n",
       "      <td>6.75</td>\n",
       "    </tr>\n",
       "    <tr>\n",
       "      <th>45</th>\n",
       "      <td>7.87</td>\n",
       "    </tr>\n",
       "    <tr>\n",
       "      <th>65</th>\n",
       "      <td>7.60</td>\n",
       "    </tr>\n",
       "    <tr>\n",
       "      <th>48</th>\n",
       "      <td>8.63</td>\n",
       "    </tr>\n",
       "    <tr>\n",
       "      <th>122</th>\n",
       "      <td>5.12</td>\n",
       "    </tr>\n",
       "    <tr>\n",
       "      <th>178</th>\n",
       "      <td>8.15</td>\n",
       "    </tr>\n",
       "    <tr>\n",
       "      <th>64</th>\n",
       "      <td>7.36</td>\n",
       "    </tr>\n",
       "    <tr>\n",
       "      <th>9</th>\n",
       "      <td>8.31</td>\n",
       "    </tr>\n",
       "    <tr>\n",
       "      <th>57</th>\n",
       "      <td>6.60</td>\n",
       "    </tr>\n",
       "    <tr>\n",
       "      <th>78</th>\n",
       "      <td>6.59</td>\n",
       "    </tr>\n",
       "    <tr>\n",
       "      <th>71</th>\n",
       "      <td>7.47</td>\n",
       "    </tr>\n",
       "    <tr>\n",
       "      <th>128</th>\n",
       "      <td>7.93</td>\n",
       "    </tr>\n",
       "    <tr>\n",
       "      <th>176</th>\n",
       "      <td>6.29</td>\n",
       "    </tr>\n",
       "    <tr>\n",
       "      <th>131</th>\n",
       "      <td>6.37</td>\n",
       "    </tr>\n",
       "    <tr>\n",
       "      <th>53</th>\n",
       "      <td>6.47</td>\n",
       "    </tr>\n",
       "  </tbody>\n",
       "</table>\n",
       "</div>"
      ],
      "text/plain": [
       "     cgpa\n",
       "112  8.58\n",
       "29   7.15\n",
       "182  5.88\n",
       "199  6.22\n",
       "193  4.57\n",
       "85   4.79\n",
       "10   5.32\n",
       "54   6.86\n",
       "115  8.35\n",
       "35   6.87\n",
       "12   8.94\n",
       "92   7.90\n",
       "13   6.93\n",
       "126  5.91\n",
       "174  7.32\n",
       "2    7.82\n",
       "44   5.09\n",
       "3    7.42\n",
       "113  6.94\n",
       "14   7.73\n",
       "23   6.19\n",
       "25   7.28\n",
       "6    6.73\n",
       "134  7.20\n",
       "165  8.21\n",
       "173  6.75\n",
       "45   7.87\n",
       "65   7.60\n",
       "48   8.63\n",
       "122  5.12\n",
       "178  8.15\n",
       "64   7.36\n",
       "9    8.31\n",
       "57   6.60\n",
       "78   6.59\n",
       "71   7.47\n",
       "128  7.93\n",
       "176  6.29\n",
       "131  6.37\n",
       "53   6.47"
      ]
     },
     "execution_count": 12,
     "metadata": {},
     "output_type": "execute_result"
    }
   ],
   "source": [
    "x_test"
   ]
  },
  {
   "cell_type": "code",
   "execution_count": 13,
   "id": "86260923",
   "metadata": {
    "execution": {
     "iopub.execute_input": "2025-03-01T15:28:43.606491Z",
     "iopub.status.busy": "2025-03-01T15:28:43.606068Z",
     "iopub.status.idle": "2025-03-01T15:28:43.734171Z",
     "shell.execute_reply": "2025-03-01T15:28:43.733148Z"
    },
    "papermill": {
     "duration": 0.139021,
     "end_time": "2025-03-01T15:28:43.736179",
     "exception": false,
     "start_time": "2025-03-01T15:28:43.597158",
     "status": "completed"
    },
    "tags": []
   },
   "outputs": [],
   "source": [
    "from sklearn.linear_model import LinearRegression\n",
    "lr = LinearRegression()"
   ]
  },
  {
   "cell_type": "code",
   "execution_count": 14,
   "id": "c7045e97",
   "metadata": {
    "execution": {
     "iopub.execute_input": "2025-03-01T15:28:43.754205Z",
     "iopub.status.busy": "2025-03-01T15:28:43.753835Z",
     "iopub.status.idle": "2025-03-01T15:28:43.786726Z",
     "shell.execute_reply": "2025-03-01T15:28:43.785685Z"
    },
    "papermill": {
     "duration": 0.043937,
     "end_time": "2025-03-01T15:28:43.788508",
     "exception": false,
     "start_time": "2025-03-01T15:28:43.744571",
     "status": "completed"
    },
    "tags": []
   },
   "outputs": [
    {
     "data": {
      "text/html": [
       "<style>#sk-container-id-1 {color: black;background-color: white;}#sk-container-id-1 pre{padding: 0;}#sk-container-id-1 div.sk-toggleable {background-color: white;}#sk-container-id-1 label.sk-toggleable__label {cursor: pointer;display: block;width: 100%;margin-bottom: 0;padding: 0.3em;box-sizing: border-box;text-align: center;}#sk-container-id-1 label.sk-toggleable__label-arrow:before {content: \"▸\";float: left;margin-right: 0.25em;color: #696969;}#sk-container-id-1 label.sk-toggleable__label-arrow:hover:before {color: black;}#sk-container-id-1 div.sk-estimator:hover label.sk-toggleable__label-arrow:before {color: black;}#sk-container-id-1 div.sk-toggleable__content {max-height: 0;max-width: 0;overflow: hidden;text-align: left;background-color: #f0f8ff;}#sk-container-id-1 div.sk-toggleable__content pre {margin: 0.2em;color: black;border-radius: 0.25em;background-color: #f0f8ff;}#sk-container-id-1 input.sk-toggleable__control:checked~div.sk-toggleable__content {max-height: 200px;max-width: 100%;overflow: auto;}#sk-container-id-1 input.sk-toggleable__control:checked~label.sk-toggleable__label-arrow:before {content: \"▾\";}#sk-container-id-1 div.sk-estimator input.sk-toggleable__control:checked~label.sk-toggleable__label {background-color: #d4ebff;}#sk-container-id-1 div.sk-label input.sk-toggleable__control:checked~label.sk-toggleable__label {background-color: #d4ebff;}#sk-container-id-1 input.sk-hidden--visually {border: 0;clip: rect(1px 1px 1px 1px);clip: rect(1px, 1px, 1px, 1px);height: 1px;margin: -1px;overflow: hidden;padding: 0;position: absolute;width: 1px;}#sk-container-id-1 div.sk-estimator {font-family: monospace;background-color: #f0f8ff;border: 1px dotted black;border-radius: 0.25em;box-sizing: border-box;margin-bottom: 0.5em;}#sk-container-id-1 div.sk-estimator:hover {background-color: #d4ebff;}#sk-container-id-1 div.sk-parallel-item::after {content: \"\";width: 100%;border-bottom: 1px solid gray;flex-grow: 1;}#sk-container-id-1 div.sk-label:hover label.sk-toggleable__label {background-color: #d4ebff;}#sk-container-id-1 div.sk-serial::before {content: \"\";position: absolute;border-left: 1px solid gray;box-sizing: border-box;top: 0;bottom: 0;left: 50%;z-index: 0;}#sk-container-id-1 div.sk-serial {display: flex;flex-direction: column;align-items: center;background-color: white;padding-right: 0.2em;padding-left: 0.2em;position: relative;}#sk-container-id-1 div.sk-item {position: relative;z-index: 1;}#sk-container-id-1 div.sk-parallel {display: flex;align-items: stretch;justify-content: center;background-color: white;position: relative;}#sk-container-id-1 div.sk-item::before, #sk-container-id-1 div.sk-parallel-item::before {content: \"\";position: absolute;border-left: 1px solid gray;box-sizing: border-box;top: 0;bottom: 0;left: 50%;z-index: -1;}#sk-container-id-1 div.sk-parallel-item {display: flex;flex-direction: column;z-index: 1;position: relative;background-color: white;}#sk-container-id-1 div.sk-parallel-item:first-child::after {align-self: flex-end;width: 50%;}#sk-container-id-1 div.sk-parallel-item:last-child::after {align-self: flex-start;width: 50%;}#sk-container-id-1 div.sk-parallel-item:only-child::after {width: 0;}#sk-container-id-1 div.sk-dashed-wrapped {border: 1px dashed gray;margin: 0 0.4em 0.5em 0.4em;box-sizing: border-box;padding-bottom: 0.4em;background-color: white;}#sk-container-id-1 div.sk-label label {font-family: monospace;font-weight: bold;display: inline-block;line-height: 1.2em;}#sk-container-id-1 div.sk-label-container {text-align: center;}#sk-container-id-1 div.sk-container {/* jupyter's `normalize.less` sets `[hidden] { display: none; }` but bootstrap.min.css set `[hidden] { display: none !important; }` so we also need the `!important` here to be able to override the default hidden behavior on the sphinx rendered scikit-learn.org. See: https://github.com/scikit-learn/scikit-learn/issues/21755 */display: inline-block !important;position: relative;}#sk-container-id-1 div.sk-text-repr-fallback {display: none;}</style><div id=\"sk-container-id-1\" class=\"sk-top-container\"><div class=\"sk-text-repr-fallback\"><pre>LinearRegression()</pre><b>In a Jupyter environment, please rerun this cell to show the HTML representation or trust the notebook. <br />On GitHub, the HTML representation is unable to render, please try loading this page with nbviewer.org.</b></div><div class=\"sk-container\" hidden><div class=\"sk-item\"><div class=\"sk-estimator sk-toggleable\"><input class=\"sk-toggleable__control sk-hidden--visually\" id=\"sk-estimator-id-1\" type=\"checkbox\" checked><label for=\"sk-estimator-id-1\" class=\"sk-toggleable__label sk-toggleable__label-arrow\">LinearRegression</label><div class=\"sk-toggleable__content\"><pre>LinearRegression()</pre></div></div></div></div></div>"
      ],
      "text/plain": [
       "LinearRegression()"
      ]
     },
     "execution_count": 14,
     "metadata": {},
     "output_type": "execute_result"
    }
   ],
   "source": [
    "lr.fit(x_train,y_train)"
   ]
  },
  {
   "cell_type": "code",
   "execution_count": 15,
   "id": "af992a30",
   "metadata": {
    "execution": {
     "iopub.execute_input": "2025-03-01T15:28:43.811709Z",
     "iopub.status.busy": "2025-03-01T15:28:43.811299Z",
     "iopub.status.idle": "2025-03-01T15:28:44.055383Z",
     "shell.execute_reply": "2025-03-01T15:28:44.054161Z"
    },
    "papermill": {
     "duration": 0.258879,
     "end_time": "2025-03-01T15:28:44.057379",
     "exception": false,
     "start_time": "2025-03-01T15:28:43.798500",
     "status": "completed"
    },
    "tags": []
   },
   "outputs": [
    {
     "data": {
      "text/plain": [
       "Text(0, 0.5, 'Package (in LPA)')"
      ]
     },
     "execution_count": 15,
     "metadata": {},
     "output_type": "execute_result"
    },
    {
     "data": {
      "image/png": "[encoded data removed]",
      "text/plain": [
       "<Figure size 640x480 with 1 Axes>"
      ]
     },
     "metadata": {},
     "output_type": "display_data"
    }
   ],
   "source": [
    "plt.scatter(df['cgpa'],df['package'])\n",
    "plt.plot(x_train,lr.predict(x_train),color='red')\n",
    "plt.xlabel('CGPA')\n",
    "plt.ylabel('Package (in LPA)')"
   ]
  },
  {
   "cell_type": "code",
   "execution_count": 16,
   "id": "03ccc251",
   "metadata": {
    "execution": {
     "iopub.execute_input": "2025-03-01T15:28:44.078357Z",
     "iopub.status.busy": "2025-03-01T15:28:44.077732Z",
     "iopub.status.idle": "2025-03-01T15:28:44.082890Z",
     "shell.execute_reply": "2025-03-01T15:28:44.081816Z"
    },
    "papermill": {
     "duration": 0.018212,
     "end_time": "2025-03-01T15:28:44.085016",
     "exception": false,
     "start_time": "2025-03-01T15:28:44.066804",
     "status": "completed"
    },
    "tags": []
   },
   "outputs": [],
   "source": [
    "from sklearn.metrics import mean_absolute_error,mean_squared_error,r2_score"
   ]
  },
  {
   "cell_type": "code",
   "execution_count": 17,
   "id": "3586fd0d",
   "metadata": {
    "execution": {
     "iopub.execute_input": "2025-03-01T15:28:44.110546Z",
     "iopub.status.busy": "2025-03-01T15:28:44.110096Z",
     "iopub.status.idle": "2025-03-01T15:28:44.117625Z",
     "shell.execute_reply": "2025-03-01T15:28:44.116286Z"
    },
    "papermill": {
     "duration": 0.019758,
     "end_time": "2025-03-01T15:28:44.119495",
     "exception": false,
     "start_time": "2025-03-01T15:28:44.099737",
     "status": "completed"
    },
    "tags": []
   },
   "outputs": [],
   "source": [
    "y_pred = lr.predict(x_test)"
   ]
  },
  {
   "cell_type": "code",
   "execution_count": 18,
   "id": "c3018eca",
   "metadata": {
    "execution": {
     "iopub.execute_input": "2025-03-01T15:28:44.140851Z",
     "iopub.status.busy": "2025-03-01T15:28:44.140480Z",
     "iopub.status.idle": "2025-03-01T15:28:44.146683Z",
     "shell.execute_reply": "2025-03-01T15:28:44.145542Z"
    },
    "papermill": {
     "duration": 0.019598,
     "end_time": "2025-03-01T15:28:44.148786",
     "exception": false,
     "start_time": "2025-03-01T15:28:44.129188",
     "status": "completed"
    },
    "tags": []
   },
   "outputs": [
    {
     "data": {
      "text/plain": [
       "array([4.1 , 3.49, 2.08, 2.33, 1.94, 1.48, 1.86, 3.09, 4.21, 2.87, 3.65,\n",
       "       4.  , 2.89, 2.6 , 2.99, 3.25, 1.86, 3.67, 2.37, 3.42, 2.48, 3.65,\n",
       "       2.6 , 2.83, 4.08, 2.56, 3.58, 3.81, 4.09, 2.01, 3.63, 2.92, 3.51,\n",
       "       1.94, 2.21, 3.34, 3.34, 3.23, 2.01, 2.61])"
      ]
     },
     "execution_count": 18,
     "metadata": {},
     "output_type": "execute_result"
    }
   ],
   "source": [
    "y_test.values"
   ]
  },
  {
   "cell_type": "code",
   "execution_count": 19,
   "id": "f0c935d1",
   "metadata": {
    "execution": {
     "iopub.execute_input": "2025-03-01T15:28:44.174242Z",
     "iopub.status.busy": "2025-03-01T15:28:44.173884Z",
     "iopub.status.idle": "2025-03-01T15:28:44.180318Z",
     "shell.execute_reply": "2025-03-01T15:28:44.179091Z"
    },
    "papermill": {
     "duration": 0.018772,
     "end_time": "2025-03-01T15:28:44.182115",
     "exception": false,
     "start_time": "2025-03-01T15:28:44.163343",
     "status": "completed"
    },
    "tags": []
   },
   "outputs": [
    {
     "name": "stdout",
     "output_type": "stream",
     "text": [
      "MAE 0.2884710931878175\n"
     ]
    }
   ],
   "source": [
    "print('MAE',mean_absolute_error(y_test,y_pred))"
   ]
  },
  {
   "cell_type": "code",
   "execution_count": 20,
   "id": "25f6e642",
   "metadata": {
    "execution": {
     "iopub.execute_input": "2025-03-01T15:28:44.202277Z",
     "iopub.status.busy": "2025-03-01T15:28:44.201926Z",
     "iopub.status.idle": "2025-03-01T15:28:44.208525Z",
     "shell.execute_reply": "2025-03-01T15:28:44.207531Z"
    },
    "papermill": {
     "duration": 0.019007,
     "end_time": "2025-03-01T15:28:44.210492",
     "exception": false,
     "start_time": "2025-03-01T15:28:44.191485",
     "status": "completed"
    },
    "tags": []
   },
   "outputs": [
    {
     "name": "stdout",
     "output_type": "stream",
     "text": [
      "MSE 0.12129235313495532\n"
     ]
    }
   ],
   "source": [
    "print('MSE',mean_squared_error(y_test,y_pred))"
   ]
  },
  {
   "cell_type": "code",
   "execution_count": 21,
   "id": "437d1830",
   "metadata": {
    "execution": {
     "iopub.execute_input": "2025-03-01T15:28:44.242044Z",
     "iopub.status.busy": "2025-03-01T15:28:44.241605Z",
     "iopub.status.idle": "2025-03-01T15:28:44.248669Z",
     "shell.execute_reply": "2025-03-01T15:28:44.247533Z"
    },
    "papermill": {
     "duration": 0.023525,
     "end_time": "2025-03-01T15:28:44.250391",
     "exception": false,
     "start_time": "2025-03-01T15:28:44.226866",
     "status": "completed"
    },
    "tags": []
   },
   "outputs": [
    {
     "name": "stdout",
     "output_type": "stream",
     "text": [
      "RMSE 0.3482705171773162\n"
     ]
    }
   ],
   "source": [
    "print('RMSE',np.sqrt(mean_squared_error(y_test,y_pred)))"
   ]
  },
  {
   "cell_type": "code",
   "execution_count": 22,
   "id": "5fe34026",
   "metadata": {
    "execution": {
     "iopub.execute_input": "2025-03-01T15:28:44.270977Z",
     "iopub.status.busy": "2025-03-01T15:28:44.270521Z",
     "iopub.status.idle": "2025-03-01T15:28:44.278233Z",
     "shell.execute_reply": "2025-03-01T15:28:44.277106Z"
    },
    "papermill": {
     "duration": 0.019739,
     "end_time": "2025-03-01T15:28:44.279763",
     "exception": false,
     "start_time": "2025-03-01T15:28:44.260024",
     "status": "completed"
    },
    "tags": []
   },
   "outputs": [
    {
     "name": "stdout",
     "output_type": "stream",
     "text": [
      "MSE 0.780730147510384\n"
     ]
    }
   ],
   "source": [
    "print('MSE',r2_score(y_test,y_pred))\n",
    "r2 = r2_score(y_test,y_pred)"
   ]
  },
  {
   "cell_type": "code",
   "execution_count": 23,
   "id": "68e3ecdb",
   "metadata": {
    "execution": {
     "iopub.execute_input": "2025-03-01T15:28:44.301012Z",
     "iopub.status.busy": "2025-03-01T15:28:44.300562Z",
     "iopub.status.idle": "2025-03-01T15:28:44.306804Z",
     "shell.execute_reply": "2025-03-01T15:28:44.305748Z"
    },
    "papermill": {
     "duration": 0.019108,
     "end_time": "2025-03-01T15:28:44.308498",
     "exception": false,
     "start_time": "2025-03-01T15:28:44.289390",
     "status": "completed"
    },
    "tags": []
   },
   "outputs": [
    {
     "data": {
      "text/plain": [
       "(40, 1)"
      ]
     },
     "execution_count": 23,
     "metadata": {},
     "output_type": "execute_result"
    }
   ],
   "source": [
    "# Adjusted R2 score\n",
    "x_test.shape"
   ]
  },
  {
   "cell_type": "code",
   "execution_count": 24,
   "id": "3e5f162e",
   "metadata": {
    "execution": {
     "iopub.execute_input": "2025-03-01T15:28:44.336269Z",
     "iopub.status.busy": "2025-03-01T15:28:44.335689Z",
     "iopub.status.idle": "2025-03-01T15:28:44.343500Z",
     "shell.execute_reply": "2025-03-01T15:28:44.342121Z"
    },
    "papermill": {
     "duration": 0.026674,
     "end_time": "2025-03-01T15:28:44.345524",
     "exception": false,
     "start_time": "2025-03-01T15:28:44.318850",
     "status": "completed"
    },
    "tags": []
   },
   "outputs": [
    {
     "data": {
      "text/plain": [
       "0.7749598882343415"
      ]
     },
     "execution_count": 24,
     "metadata": {},
     "output_type": "execute_result"
    }
   ],
   "source": [
    "1 - ((1-r2)*(40-1)/(40-1-1))"
   ]
  },
  {
   "cell_type": "code",
   "execution_count": 25,
   "id": "bc109a28",
   "metadata": {
    "execution": {
     "iopub.execute_input": "2025-03-01T15:28:44.380595Z",
     "iopub.status.busy": "2025-03-01T15:28:44.380099Z",
     "iopub.status.idle": "2025-03-01T15:28:44.398671Z",
     "shell.execute_reply": "2025-03-01T15:28:44.397248Z"
    },
    "papermill": {
     "duration": 0.040296,
     "end_time": "2025-03-01T15:28:44.401045",
     "exception": false,
     "start_time": "2025-03-01T15:28:44.360749",
     "status": "completed"
    },
    "tags": []
   },
   "outputs": [
    {
     "data": {
      "text/html": [
       "<div>\n",
       "<style scoped>\n",
       "    .dataframe tbody tr th:only-of-type {\n",
       "        vertical-align: middle;\n",
       "    }\n",
       "\n",
       "    .dataframe tbody tr th {\n",
       "        vertical-align: top;\n",
       "    }\n",
       "\n",
       "    .dataframe thead th {\n",
       "        text-align: right;\n",
       "    }\n",
       "</style>\n",
       "<table border=\"1\" class=\"dataframe\">\n",
       "  <thead>\n",
       "    <tr style=\"text-align: right;\">\n",
       "      <th></th>\n",
       "      <th>cgpa</th>\n",
       "      <th>random_feature</th>\n",
       "      <th>package</th>\n",
       "    </tr>\n",
       "  </thead>\n",
       "  <tbody>\n",
       "    <tr>\n",
       "      <th>0</th>\n",
       "      <td>6.89</td>\n",
       "      <td>0.974592</td>\n",
       "      <td>3.26</td>\n",
       "    </tr>\n",
       "    <tr>\n",
       "      <th>1</th>\n",
       "      <td>5.12</td>\n",
       "      <td>0.658950</td>\n",
       "      <td>1.98</td>\n",
       "    </tr>\n",
       "    <tr>\n",
       "      <th>2</th>\n",
       "      <td>7.82</td>\n",
       "      <td>0.968655</td>\n",
       "      <td>3.25</td>\n",
       "    </tr>\n",
       "    <tr>\n",
       "      <th>3</th>\n",
       "      <td>7.42</td>\n",
       "      <td>0.355948</td>\n",
       "      <td>3.67</td>\n",
       "    </tr>\n",
       "    <tr>\n",
       "      <th>4</th>\n",
       "      <td>6.94</td>\n",
       "      <td>0.941920</td>\n",
       "      <td>3.57</td>\n",
       "    </tr>\n",
       "  </tbody>\n",
       "</table>\n",
       "</div>"
      ],
      "text/plain": [
       "   cgpa  random_feature  package\n",
       "0  6.89        0.974592     3.26\n",
       "1  5.12        0.658950     1.98\n",
       "2  7.82        0.968655     3.25\n",
       "3  7.42        0.355948     3.67\n",
       "4  6.94        0.941920     3.57"
      ]
     },
     "execution_count": 25,
     "metadata": {},
     "output_type": "execute_result"
    }
   ],
   "source": [
    "new_df1 = df.copy()\n",
    "new_df1['random_feature'] = np.random.random(200)\n",
    "\n",
    "new_df1 = new_df1[['cgpa','random_feature','package']]\n",
    "new_df1.head()"
   ]
  },
  {
   "cell_type": "code",
   "execution_count": 26,
   "id": "924fd322",
   "metadata": {
    "execution": {
     "iopub.execute_input": "2025-03-01T15:28:44.429811Z",
     "iopub.status.busy": "2025-03-01T15:28:44.429395Z",
     "iopub.status.idle": "2025-03-01T15:28:44.652875Z",
     "shell.execute_reply": "2025-03-01T15:28:44.651711Z"
    },
    "papermill": {
     "duration": 0.236644,
     "end_time": "2025-03-01T15:28:44.655163",
     "exception": false,
     "start_time": "2025-03-01T15:28:44.418519",
     "status": "completed"
    },
    "tags": []
   },
   "outputs": [
    {
     "data": {
      "text/plain": [
       "Text(0, 0.5, 'Package(in lpa)')"
      ]
     },
     "execution_count": 26,
     "metadata": {},
     "output_type": "execute_result"
    },
    {
     "data": {
      "image/png": "[encoded data removed]",
      "text/plain": [
       "<Figure size 640x480 with 1 Axes>"
      ]
     },
     "metadata": {},
     "output_type": "display_data"
    }
   ],
   "source": [
    "plt.scatter(new_df1['random_feature'],new_df1['package'])\n",
    "plt.xlabel('random_feature')\n",
    "plt.ylabel('Package(in lpa)')"
   ]
  },
  {
   "cell_type": "code",
   "execution_count": 27,
   "id": "9a75b06c",
   "metadata": {
    "execution": {
     "iopub.execute_input": "2025-03-01T15:28:44.685307Z",
     "iopub.status.busy": "2025-03-01T15:28:44.684930Z",
     "iopub.status.idle": "2025-03-01T15:28:44.690351Z",
     "shell.execute_reply": "2025-03-01T15:28:44.689150Z"
    },
    "papermill": {
     "duration": 0.018963,
     "end_time": "2025-03-01T15:28:44.692143",
     "exception": false,
     "start_time": "2025-03-01T15:28:44.673180",
     "status": "completed"
    },
    "tags": []
   },
   "outputs": [],
   "source": [
    "X= new_df1.iloc[:,0:2]\n",
    "y = new_df1.iloc[:,-1]"
   ]
  },
  {
   "cell_type": "code",
   "execution_count": 28,
   "id": "60a47aa4",
   "metadata": {
    "execution": {
     "iopub.execute_input": "2025-03-01T15:28:44.716291Z",
     "iopub.status.busy": "2025-03-01T15:28:44.715824Z",
     "iopub.status.idle": "2025-03-01T15:28:44.729541Z",
     "shell.execute_reply": "2025-03-01T15:28:44.728531Z"
    },
    "papermill": {
     "duration": 0.027879,
     "end_time": "2025-03-01T15:28:44.731246",
     "exception": false,
     "start_time": "2025-03-01T15:28:44.703367",
     "status": "completed"
    },
    "tags": []
   },
   "outputs": [
    {
     "data": {
      "text/html": [
       "<div>\n",
       "<style scoped>\n",
       "    .dataframe tbody tr th:only-of-type {\n",
       "        vertical-align: middle;\n",
       "    }\n",
       "\n",
       "    .dataframe tbody tr th {\n",
       "        vertical-align: top;\n",
       "    }\n",
       "\n",
       "    .dataframe thead th {\n",
       "        text-align: right;\n",
       "    }\n",
       "</style>\n",
       "<table border=\"1\" class=\"dataframe\">\n",
       "  <thead>\n",
       "    <tr style=\"text-align: right;\">\n",
       "      <th></th>\n",
       "      <th>cgpa</th>\n",
       "      <th>random_feature</th>\n",
       "    </tr>\n",
       "  </thead>\n",
       "  <tbody>\n",
       "    <tr>\n",
       "      <th>0</th>\n",
       "      <td>6.89</td>\n",
       "      <td>0.974592</td>\n",
       "    </tr>\n",
       "    <tr>\n",
       "      <th>1</th>\n",
       "      <td>5.12</td>\n",
       "      <td>0.658950</td>\n",
       "    </tr>\n",
       "    <tr>\n",
       "      <th>2</th>\n",
       "      <td>7.82</td>\n",
       "      <td>0.968655</td>\n",
       "    </tr>\n",
       "    <tr>\n",
       "      <th>3</th>\n",
       "      <td>7.42</td>\n",
       "      <td>0.355948</td>\n",
       "    </tr>\n",
       "    <tr>\n",
       "      <th>4</th>\n",
       "      <td>6.94</td>\n",
       "      <td>0.941920</td>\n",
       "    </tr>\n",
       "    <tr>\n",
       "      <th>...</th>\n",
       "      <td>...</td>\n",
       "      <td>...</td>\n",
       "    </tr>\n",
       "    <tr>\n",
       "      <th>195</th>\n",
       "      <td>6.93</td>\n",
       "      <td>0.717831</td>\n",
       "    </tr>\n",
       "    <tr>\n",
       "      <th>196</th>\n",
       "      <td>5.89</td>\n",
       "      <td>0.431614</td>\n",
       "    </tr>\n",
       "    <tr>\n",
       "      <th>197</th>\n",
       "      <td>7.21</td>\n",
       "      <td>0.960381</td>\n",
       "    </tr>\n",
       "    <tr>\n",
       "      <th>198</th>\n",
       "      <td>7.63</td>\n",
       "      <td>0.098925</td>\n",
       "    </tr>\n",
       "    <tr>\n",
       "      <th>199</th>\n",
       "      <td>6.22</td>\n",
       "      <td>0.163932</td>\n",
       "    </tr>\n",
       "  </tbody>\n",
       "</table>\n",
       "<p>200 rows × 2 columns</p>\n",
       "</div>"
      ],
      "text/plain": [
       "     cgpa  random_feature\n",
       "0    6.89        0.974592\n",
       "1    5.12        0.658950\n",
       "2    7.82        0.968655\n",
       "3    7.42        0.355948\n",
       "4    6.94        0.941920\n",
       "..    ...             ...\n",
       "195  6.93        0.717831\n",
       "196  5.89        0.431614\n",
       "197  7.21        0.960381\n",
       "198  7.63        0.098925\n",
       "199  6.22        0.163932\n",
       "\n",
       "[200 rows x 2 columns]"
      ]
     },
     "execution_count": 28,
     "metadata": {},
     "output_type": "execute_result"
    }
   ],
   "source": [
    "X"
   ]
  },
  {
   "cell_type": "code",
   "execution_count": 29,
   "id": "10cd5718",
   "metadata": {
    "execution": {
     "iopub.execute_input": "2025-03-01T15:28:44.755558Z",
     "iopub.status.busy": "2025-03-01T15:28:44.755050Z",
     "iopub.status.idle": "2025-03-01T15:28:44.763735Z",
     "shell.execute_reply": "2025-03-01T15:28:44.762390Z"
    },
    "papermill": {
     "duration": 0.02271,
     "end_time": "2025-03-01T15:28:44.765689",
     "exception": false,
     "start_time": "2025-03-01T15:28:44.742979",
     "status": "completed"
    },
    "tags": []
   },
   "outputs": [],
   "source": [
    "X_train,X_test,y_train,y_test = train_test_split(X,y,test_size=0.2,random_state=2)"
   ]
  },
  {
   "cell_type": "code",
   "execution_count": 30,
   "id": "7cfa7525",
   "metadata": {
    "execution": {
     "iopub.execute_input": "2025-03-01T15:28:44.789561Z",
     "iopub.status.busy": "2025-03-01T15:28:44.789129Z",
     "iopub.status.idle": "2025-03-01T15:28:44.806009Z",
     "shell.execute_reply": "2025-03-01T15:28:44.804743Z"
    },
    "papermill": {
     "duration": 0.031384,
     "end_time": "2025-03-01T15:28:44.808334",
     "exception": false,
     "start_time": "2025-03-01T15:28:44.776950",
     "status": "completed"
    },
    "tags": []
   },
   "outputs": [],
   "source": [
    "lr = LinearRegression()\n",
    "lr.fit(X_train,y_train)\n",
    "y_pred = lr.predict(X_test)"
   ]
  },
  {
   "cell_type": "code",
   "execution_count": 31,
   "id": "450cc0d1",
   "metadata": {
    "execution": {
     "iopub.execute_input": "2025-03-01T15:28:44.837848Z",
     "iopub.status.busy": "2025-03-01T15:28:44.837342Z",
     "iopub.status.idle": "2025-03-01T15:28:44.845854Z",
     "shell.execute_reply": "2025-03-01T15:28:44.844662Z"
    },
    "papermill": {
     "duration": 0.022266,
     "end_time": "2025-03-01T15:28:44.847602",
     "exception": false,
     "start_time": "2025-03-01T15:28:44.825336",
     "status": "completed"
    },
    "tags": []
   },
   "outputs": [
    {
     "name": "stdout",
     "output_type": "stream",
     "text": [
      "R2 score 0.7804595526008079\n"
     ]
    }
   ],
   "source": [
    "print(\"R2 score\",r2_score(y_test,y_pred))\n",
    "r2 = r2_score(y_test,y_pred)"
   ]
  },
  {
   "cell_type": "code",
   "execution_count": 32,
   "id": "2a3a0043",
   "metadata": {
    "execution": {
     "iopub.execute_input": "2025-03-01T15:28:44.871651Z",
     "iopub.status.busy": "2025-03-01T15:28:44.871155Z",
     "iopub.status.idle": "2025-03-01T15:28:44.878644Z",
     "shell.execute_reply": "2025-03-01T15:28:44.877539Z"
    },
    "papermill": {
     "duration": 0.021754,
     "end_time": "2025-03-01T15:28:44.880750",
     "exception": false,
     "start_time": "2025-03-01T15:28:44.858996",
     "status": "completed"
    },
    "tags": []
   },
   "outputs": [
    {
     "data": {
      "text/plain": [
       "0.7685925013900408"
      ]
     },
     "execution_count": 32,
     "metadata": {},
     "output_type": "execute_result"
    }
   ],
   "source": [
    "\n",
    "1 - ((1-r2)*(40-1)/(40-1-2))"
   ]
  }
 ],
 "metadata": {
  "kaggle": {
   "accelerator": "none",
   "dataSources": [
    {
     "datasetId": 6743043,
     "sourceId": 10856001,
     "sourceType": "datasetVersion"
    }
   ],
   "dockerImageVersionId": 30918,
   "isGpuEnabled": false,
   "isInternetEnabled": true,
   "language": "python",
   "sourceType": "notebook"
  },
  "kernelspec": {
   "display_name": "Python 3",
   "language": "python",
   "name": "python3"
  },
  "language_info": {
   "codemirror_mode": {
    "name": "ipython",
    "version": 3
   },
   "file_extension": ".py",
   "mimetype": "text/x-python",
   "name": "python",
   "nbconvert_exporter": "python",
   "pygments_lexer": "ipython3",
   "version": "3.10.12"
  },
  "papermill": {
   "default_parameters": {},
   "duration": 8.09698,
   "end_time": "2025-03-01T15:28:45.614529",
   "environment_variables": {},
   "exception": null,
   "input_path": "__notebook__.ipynb",
   "output_path": "__notebook__.ipynb",
   "parameters": {},
   "start_time": "2025-03-01T15:28:37.517549",
   "version": "2.6.0"
  }
 },
 "nbformat": 4,
 "nbformat_minor": 5
}
